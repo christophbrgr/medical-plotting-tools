{
 "cells": [
  {
   "cell_type": "code",
   "execution_count": 13,
   "metadata": {},
   "outputs": [],
   "source": [
    "import numpy as np\n",
    "import nibabel as nib\n",
    "from nilearn import plotting\n",
    "import nilearn as ni\n",
    "from scipy import ndimage\n",
    "# custom colormap imports\n",
    "import matplotlib.pyplot as plt\n",
    "import matplotlib\n",
    "import os\n",
    "import fnmatch\n",
    "import json\n",
    "import plotting as myplt\n",
    "from scipy import ndimage\n",
    "from skimage import measure\n",
    "\n",
    "%matplotlib inline"
   ]
  },
  {
   "cell_type": "code",
   "execution_count": 14,
   "metadata": {},
   "outputs": [],
   "source": [
    "mask_cmap = matplotlib.cm.get_cmap('Set1')\n",
    "# set up paths \n",
    "srcpath = './data/'\n"
   ]
  },
  {
   "cell_type": "code",
   "execution_count": 10,
   "metadata": {},
   "outputs": [],
   "source": [
    "def get_bbox(mask_data):\n",
    "    # crop maskData to only the 1's\n",
    "    # http://stackoverflow.com/questions/31400769/bounding-box-of-numpy-array\n",
    "    # maskData order is z,y,x because we already rolled it\n",
    "    Z = np.any(mask_data, axis=(1, 2))\n",
    "    Y = np.any(mask_data, axis=(0, 2))\n",
    "    X = np.any(mask_data, axis=(0, 1))\n",
    "    #\n",
    "    X_min, X_max = np.where(X)[0][[0, -1]]\n",
    "    Y_min, Y_max = np.where(Y)[0][[0, -1]]\n",
    "    Z_min, Z_max = np.where(Z)[0][[0, -1]]\n",
    "    # 1 is added to account for the final slice also including the mask\n",
    "    return Z_min, Z_max, Y_min, Y_max, X_min, X_max, Z_max-Z_min+1, Y_max-Y_min+1, X_max-X_min+1"
   ]
  },
  {
   "cell_type": "code",
   "execution_count": 11,
   "metadata": {},
   "outputs": [],
   "source": [
    "def plot_single_img(img, masks, title, outpath):\n",
    "    fig = plt.figure()\n",
    "    fig.set_size_inches(10,10)\n",
    "    fig.suptitle(title, fontsize=20)\n",
    "    \n",
    "    contours =  measure.find_contours(mask[index], 0.5)\n",
    "    fig.plot(contours[:, 1], contours[:, 0], linewidth=line_width, color=mask_cmap(mask_count))\n",
    "    "
   ]
  },
  {
   "cell_type": "code",
   "execution_count": null,
   "metadata": {},
   "outputs": [],
   "source": []
  }
 ],
 "metadata": {
  "kernelspec": {
   "display_name": "Python 3",
   "language": "python",
   "name": "python3"
  },
  "language_info": {
   "codemirror_mode": {
    "name": "ipython",
    "version": 3
   },
   "file_extension": ".py",
   "mimetype": "text/x-python",
   "name": "python",
   "nbconvert_exporter": "python",
   "pygments_lexer": "ipython3",
   "version": "3.7.4"
  }
 },
 "nbformat": 4,
 "nbformat_minor": 2
}
